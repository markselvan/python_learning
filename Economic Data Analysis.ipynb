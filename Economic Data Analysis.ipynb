{
 "cells": [
  {
   "cell_type": "code",
   "execution_count": 1,
   "id": "3c436aad-e728-46fa-9a05-baa719630daa",
   "metadata": {},
   "outputs": [
    {
     "name": "stdout",
     "output_type": "stream",
     "text": [
      "Requirement already satisfied: plotly in c:\\users\\user\\appdata\\local\\programs\\python\\python313\\lib\\site-packages (6.2.0)\n",
      "Requirement already satisfied: narwhals>=1.15.1 in c:\\users\\user\\appdata\\local\\programs\\python\\python313\\lib\\site-packages (from plotly) (2.0.0)\n",
      "Requirement already satisfied: packaging in c:\\users\\user\\appdata\\local\\programs\\python\\python313\\lib\\site-packages (from plotly) (25.0)\n"
     ]
    }
   ],
   "source": [
    "!pip install plotly\n",
    "\n",
    "import pandas as pd\n",
    "import numpy as np\n",
    "import matplotlib.pyplot as plt \n",
    "import plotly.express as px\n"
   ]
  },
  {
   "cell_type": "code",
   "execution_count": 2,
   "id": "832fae82-8283-4682-b875-5baacbcd0d76",
   "metadata": {},
   "outputs": [
    {
     "name": "stdout",
     "output_type": "stream",
     "text": [
      "Requirement already satisfied: fredapi in c:\\users\\user\\appdata\\local\\programs\\python\\python313\\lib\\site-packages (0.5.2)\n",
      "Requirement already satisfied: pandas in c:\\users\\user\\appdata\\local\\programs\\python\\python313\\lib\\site-packages (from fredapi) (2.3.1)\n",
      "Requirement already satisfied: numpy>=1.26.0 in c:\\users\\user\\appdata\\local\\programs\\python\\python313\\lib\\site-packages (from pandas->fredapi) (2.3.1)\n",
      "Requirement already satisfied: python-dateutil>=2.8.2 in c:\\users\\user\\appdata\\local\\programs\\python\\python313\\lib\\site-packages (from pandas->fredapi) (2.9.0.post0)\n",
      "Requirement already satisfied: pytz>=2020.1 in c:\\users\\user\\appdata\\local\\programs\\python\\python313\\lib\\site-packages (from pandas->fredapi) (2025.2)\n",
      "Requirement already satisfied: tzdata>=2022.7 in c:\\users\\user\\appdata\\local\\programs\\python\\python313\\lib\\site-packages (from pandas->fredapi) (2025.2)\n",
      "Requirement already satisfied: six>=1.5 in c:\\users\\user\\appdata\\local\\programs\\python\\python313\\lib\\site-packages (from python-dateutil>=2.8.2->pandas->fredapi) (1.17.0)\n"
     ]
    }
   ],
   "source": [
    "plt.style.use('fivethirtyeight')\n",
    "\n",
    "!pip install fredapi"
   ]
  },
  {
   "cell_type": "code",
   "execution_count": 3,
   "id": "d09dc9c6-b366-4ba7-99c1-0dc33463f6eb",
   "metadata": {},
   "outputs": [],
   "source": [
    "from fredapi import Fred\n",
    "\n",
    "pd.set_option('display.max_columns', 500)"
   ]
  },
  {
   "cell_type": "code",
   "execution_count": 4,
   "id": "ba684bd2-3168-49cb-baf9-9ccb5471d327",
   "metadata": {},
   "outputs": [],
   "source": [
    "color_pal = plt.rcParams[\"axes.prop_cycle\"].by_key()[\"color\"]"
   ]
  },
  {
   "cell_type": "code",
   "execution_count": 5,
   "id": "329764cf-0671-495c-ba11-0109bb7dda8b",
   "metadata": {},
   "outputs": [],
   "source": [
    "fred_key = '7f2f1a3fe19db48ae44f4a22512bfc4f'"
   ]
  },
  {
   "cell_type": "markdown",
   "id": "54166949-543c-4d29-b3a1-7c5e07d3df54",
   "metadata": {},
   "source": [
    "## 1.Create the Fred Object\n",
    "\n"
   ]
  },
  {
   "cell_type": "code",
   "execution_count": 6,
   "id": "bcbc9c39-e6cd-4750-a5a2-ba88f3f66075",
   "metadata": {},
   "outputs": [],
   "source": [
    "fred = Fred(api_key=fred_key)"
   ]
  },
  {
   "cell_type": "markdown",
   "id": "5e5d8652-659f-4f1c-925d-c83dda24ec4b",
   "metadata": {},
   "source": [
    "## 2. Search the economic data!"
   ]
  },
  {
   "cell_type": "code",
   "execution_count": 7,
   "id": "7977b36e-aa5e-44fc-8ae4-d1fa24821f35",
   "metadata": {},
   "outputs": [
    {
     "name": "stdout",
     "output_type": "stream",
     "text": [
      "Help on Fred in module fredapi.fred object:\n",
      "\n",
      "class Fred(builtins.object)\n",
      " |  Fred(api_key=None, api_key_file=None, proxies=None)\n",
      " |\n",
      " |  Methods defined here:\n",
      " |\n",
      " |  __init__(self, api_key=None, api_key_file=None, proxies=None)\n",
      " |      Initialize the Fred class that provides useful functions to query the Fred dataset. You need to specify a valid\n",
      " |      API key in one of 3 ways: pass the string via api_key, or set api_key_file to a file with the api key in the\n",
      " |      first line, or set the environment variable 'FRED_API_KEY' to the value of your api key.\n",
      " |\n",
      " |      Parameters\n",
      " |      ----------\n",
      " |      api_key : str\n",
      " |          API key. A free api key can be obtained on the Fred website at http://research.stlouisfed.org/fred2/.\n",
      " |      api_key_file : str\n",
      " |          Path to a file containing the api key.\n",
      " |      proxies : dict\n",
      " |          Proxies specifications: a dictionary mapping protocol names (e.g. 'http', 'https') to proxy URLs. If not provided, environment variables 'HTTP_PROXY', 'HTTPS_PROXY' are used.\n",
      " |\n",
      " |  get_series(\n",
      " |      self,\n",
      " |      series_id,\n",
      " |      observation_start=None,\n",
      " |      observation_end=None,\n",
      " |      **kwargs\n",
      " |  )\n",
      " |      Get data for a Fred series id. This fetches the latest known data, and is equivalent to get_series_latest_release()\n",
      " |\n",
      " |      Parameters\n",
      " |      ----------\n",
      " |      series_id : str\n",
      " |          Fred series id such as 'CPIAUCSL'\n",
      " |      observation_start : datetime or datetime-like str such as '7/1/2014', optional\n",
      " |          earliest observation date\n",
      " |      observation_end : datetime or datetime-like str such as '7/1/2014', optional\n",
      " |          latest observation date\n",
      " |      kwargs : additional parameters\n",
      " |          Any additional parameters supported by FRED. You can see https://api.stlouisfed.org/docs/fred/series_observations.html for the full list\n",
      " |\n",
      " |      Returns\n",
      " |      -------\n",
      " |      data : Series\n",
      " |          a Series where each index is the observation date and the value is the data for the Fred series\n",
      " |\n",
      " |  get_series_all_releases(self, series_id, realtime_start=None, realtime_end=None)\n",
      " |      Get all data for a Fred series id including first releases and all revisions. This returns a DataFrame\n",
      " |      with three columns: 'date', 'realtime_start', and 'value'. For instance, the US GDP for Q4 2013 was first released\n",
      " |      to be 17102.5 on 2014-01-30, and then revised to 17080.7 on 2014-02-28, and then revised to 17089.6 on\n",
      " |      2014-03-27. You will therefore get three rows with the same 'date' (observation date) of 2013-10-01 but three\n",
      " |      different 'realtime_start' of 2014-01-30, 2014-02-28, and 2014-03-27 with corresponding 'value' of 17102.5, 17080.7\n",
      " |      and 17089.6\n",
      " |\n",
      " |      Parameters\n",
      " |      ----------\n",
      " |      series_id : str\n",
      " |          Fred series id such as 'GDP'\n",
      " |      realtime_start : str, optional\n",
      " |          specifies the realtime_start value used in the query, defaults to the earliest possible start date allowed by Fred\n",
      " |      realtime_end : str, optional\n",
      " |          specifies the realtime_end value used in the query, defaults to the latest possible end date allowed by Fred\n",
      " |\n",
      " |      Returns\n",
      " |      -------\n",
      " |      data : DataFrame\n",
      " |          a DataFrame with columns 'date', 'realtime_start' and 'value' where 'date' is the observation period and 'realtime_start'\n",
      " |          is when the corresponding value (either first release or revision) is reported.\n",
      " |\n",
      " |  get_series_as_of_date(self, series_id, as_of_date)\n",
      " |      Get latest data for a Fred series id as known on a particular date. This includes any revision to the data series\n",
      " |      before or on as_of_date, but ignores any revision on dates after as_of_date.\n",
      " |\n",
      " |      Parameters\n",
      " |      ----------\n",
      " |      series_id : str\n",
      " |          Fred series id such as 'GDP'\n",
      " |      as_of_date : datetime, or datetime-like str such as '10/25/2014'\n",
      " |          Include data revisions on or before this date, and ignore revisions afterwards\n",
      " |\n",
      " |      Returns\n",
      " |      -------\n",
      " |      data : Series\n",
      " |          a Series where each index is the observation date and the value is the data for the Fred series\n",
      " |\n",
      " |  get_series_first_release(self, series_id)\n",
      " |      Get first-release data for a Fred series id. This ignores any revision to the data series. For instance,\n",
      " |      The US GDP for Q1 2014 was first released to be 17149.6, and then later revised to 17101.3, and 17016.0.\n",
      " |      This will ignore revisions after the first release.\n",
      " |\n",
      " |      Parameters\n",
      " |      ----------\n",
      " |      series_id : str\n",
      " |          Fred series id such as 'GDP'\n",
      " |\n",
      " |      Returns\n",
      " |      -------\n",
      " |      data : Series\n",
      " |          a Series where each index is the observation date and the value is the data for the Fred series\n",
      " |\n",
      " |  get_series_info(self, series_id)\n",
      " |      Get information about a series such as its title, frequency, observation start/end dates, units, notes, etc.\n",
      " |\n",
      " |      Parameters\n",
      " |      ----------\n",
      " |      series_id : str\n",
      " |          Fred series id such as 'CPIAUCSL'\n",
      " |\n",
      " |      Returns\n",
      " |      -------\n",
      " |      info : Series\n",
      " |          a pandas Series containing information about the Fred series\n",
      " |\n",
      " |  get_series_latest_release(self, series_id)\n",
      " |      Get data for a Fred series id. This fetches the latest known data, and is equivalent to get_series()\n",
      " |\n",
      " |      Parameters\n",
      " |      ----------\n",
      " |      series_id : str\n",
      " |          Fred series id such as 'CPIAUCSL'\n",
      " |\n",
      " |      Returns\n",
      " |      -------\n",
      " |      info : Series\n",
      " |          a Series where each index is the observation date and the value is the data for the Fred series\n",
      " |\n",
      " |  get_series_vintage_dates(self, series_id)\n",
      " |      Get a list of vintage dates for a series. Vintage dates are the dates in history when a\n",
      " |      series' data values were revised or new data values were released.\n",
      " |\n",
      " |      Parameters\n",
      " |      ----------\n",
      " |      series_id : str\n",
      " |          Fred series id such as 'CPIAUCSL'\n",
      " |\n",
      " |      Returns\n",
      " |      -------\n",
      " |      dates : list\n",
      " |          list of vintage dates\n",
      " |\n",
      " |  search(self, text, limit=1000, order_by=None, sort_order=None, filter=None)\n",
      " |      Do a fulltext search for series in the Fred dataset. Returns information about matching series in a DataFrame.\n",
      " |\n",
      " |      Parameters\n",
      " |      ----------\n",
      " |      text : str\n",
      " |          text to do fulltext search on, e.g., 'Real GDP'\n",
      " |      limit : int, optional\n",
      " |          limit the number of results to this value. If limit is 0, it means fetching all results without limit.\n",
      " |      order_by : str, optional\n",
      " |          order the results by a criterion. Valid options are 'search_rank', 'series_id', 'title', 'units', 'frequency',\n",
      " |          'seasonal_adjustment', 'realtime_start', 'realtime_end', 'last_updated', 'observation_start', 'observation_end',\n",
      " |          'popularity'\n",
      " |      sort_order : str, optional\n",
      " |          sort the results by ascending or descending order. Valid options are 'asc' or 'desc'\n",
      " |      filter : tuple, optional\n",
      " |          filters the results. Expects a tuple like (filter_variable, filter_value).\n",
      " |          Valid filter_variable values are 'frequency', 'units', and 'seasonal_adjustment'\n",
      " |\n",
      " |      Returns\n",
      " |      -------\n",
      " |      info : DataFrame\n",
      " |          a DataFrame containing information about the matching Fred series\n",
      " |\n",
      " |  search_by_category(\n",
      " |      self,\n",
      " |      category_id,\n",
      " |      limit=0,\n",
      " |      order_by=None,\n",
      " |      sort_order=None,\n",
      " |      filter=None\n",
      " |  )\n",
      " |      Search for series that belongs to a category id. Returns information about matching series in a DataFrame.\n",
      " |\n",
      " |      Parameters\n",
      " |      ----------\n",
      " |      category_id : int\n",
      " |          category id, e.g., 32145\n",
      " |      limit : int, optional\n",
      " |          limit the number of results to this value. If limit is 0, it means fetching all results without limit.\n",
      " |      order_by : str, optional\n",
      " |          order the results by a criterion. Valid options are 'search_rank', 'series_id', 'title', 'units', 'frequency',\n",
      " |          'seasonal_adjustment', 'realtime_start', 'realtime_end', 'last_updated', 'observation_start', 'observation_end',\n",
      " |          'popularity'\n",
      " |      sort_order : str, optional\n",
      " |          sort the results by ascending or descending order. Valid options are 'asc' or 'desc'\n",
      " |      filter : tuple, optional\n",
      " |          filters the results. Expects a tuple like (filter_variable, filter_value).\n",
      " |          Valid filter_variable values are 'frequency', 'units', and 'seasonal_adjustment'\n",
      " |\n",
      " |      Returns\n",
      " |      -------\n",
      " |      info : DataFrame\n",
      " |          a DataFrame containing information about the matching Fred series\n",
      " |\n",
      " |  search_by_release(\n",
      " |      self,\n",
      " |      release_id,\n",
      " |      limit=0,\n",
      " |      order_by=None,\n",
      " |      sort_order=None,\n",
      " |      filter=None\n",
      " |  )\n",
      " |      Search for series that belongs to a release id. Returns information about matching series in a DataFrame.\n",
      " |\n",
      " |      Parameters\n",
      " |      ----------\n",
      " |      release_id : int\n",
      " |          release id, e.g., 151\n",
      " |      limit : int, optional\n",
      " |          limit the number of results to this value. If limit is 0, it means fetching all results without limit.\n",
      " |      order_by : str, optional\n",
      " |          order the results by a criterion. Valid options are 'search_rank', 'series_id', 'title', 'units', 'frequency',\n",
      " |          'seasonal_adjustment', 'realtime_start', 'realtime_end', 'last_updated', 'observation_start', 'observation_end',\n",
      " |          'popularity'\n",
      " |      sort_order : str, optional\n",
      " |          sort the results by ascending or descending order. Valid options are 'asc' or 'desc'\n",
      " |      filter : tuple, optional\n",
      " |          filters the results. Expects a tuple like (filter_variable, filter_value).\n",
      " |          Valid filter_variable values are 'frequency', 'units', and 'seasonal_adjustment'\n",
      " |\n",
      " |      Returns\n",
      " |      -------\n",
      " |      info : DataFrame\n",
      " |          a DataFrame containing information about the matching Fred series\n",
      " |\n",
      " |  ----------------------------------------------------------------------\n",
      " |  Data descriptors defined here:\n",
      " |\n",
      " |  __dict__\n",
      " |      dictionary for instance variables\n",
      " |\n",
      " |  __weakref__\n",
      " |      list of weak references to the object\n",
      " |\n",
      " |  ----------------------------------------------------------------------\n",
      " |  Data and other attributes defined here:\n",
      " |\n",
      " |  earliest_realtime_start = '1776-07-04'\n",
      " |\n",
      " |  latest_realtime_end = '9999-12-31'\n",
      " |\n",
      " |  max_results_per_request = 1000\n",
      " |\n",
      " |  nan_char = '.'\n",
      " |\n",
      " |  root_url = 'https://api.stlouisfed.org/fred'\n",
      "\n"
     ]
    }
   ],
   "source": [
    "help(fred)"
   ]
  },
  {
   "cell_type": "code",
   "execution_count": null,
   "id": "ed7fe6c6-916a-487c-9192-a7b0617386ac",
   "metadata": {},
   "outputs": [],
   "source": [
    "fred.search('S&P', order_by='popularity')"
   ]
  },
  {
   "cell_type": "markdown",
   "id": "699af4a9-a89a-4c5d-bf5c-466f080a5cfd",
   "metadata": {},
   "source": [
    "## 3. Pull Raw Data"
   ]
  },
  {
   "cell_type": "code",
   "execution_count": null,
   "id": "9dc90bd4-979e-4157-96d0-b34167f16a81",
   "metadata": {},
   "outputs": [],
   "source": [
    "sp500 = fred.get_series(series_id='SP500')\n"
   ]
  },
  {
   "cell_type": "code",
   "execution_count": null,
   "id": "a4a14066-961d-41ac-842e-97b41c358e66",
   "metadata": {},
   "outputs": [],
   "source": [
    "sp500.plot(figsize=(10,5), title='S&P500', lw=2 )"
   ]
  },
  {
   "cell_type": "markdown",
   "id": "e4987547-d50e-46f9-b3ed-4bd9ca99a8a8",
   "metadata": {},
   "source": [
    "## 4. Pull and Join Multiple Data Series"
   ]
  },
  {
   "cell_type": "code",
   "execution_count": null,
   "id": "4ef387ac-0e54-4b7d-9b3c-792b51a8a71e",
   "metadata": {},
   "outputs": [],
   "source": [
    "fred.search('unemployment', order_by='popularity')"
   ]
  },
  {
   "cell_type": "code",
   "execution_count": null,
   "id": "da308ab6-17e0-4b44-8e58-e4fce36722bd",
   "metadata": {},
   "outputs": [],
   "source": [
    "unrate = fred.get_series('UNRATE')"
   ]
  },
  {
   "cell_type": "code",
   "execution_count": null,
   "id": "8e8f676e-5583-42ff-9ec4-1c9daaf475b2",
   "metadata": {},
   "outputs": [],
   "source": [
    "unrate"
   ]
  },
  {
   "cell_type": "code",
   "execution_count": null,
   "id": "64b8abfe-8289-468f-ad18-e0e0bb650962",
   "metadata": {},
   "outputs": [],
   "source": [
    "unrate.plot(figsize = (10,5), lw =2)"
   ]
  },
  {
   "cell_type": "code",
   "execution_count": null,
   "id": "ea649807-6714-4171-b425-ecc05725c737",
   "metadata": {},
   "outputs": [],
   "source": [
    "unemp_df=fred.search('unemployment rate state', filter=('frequency', 'Monthly'))"
   ]
  },
  {
   "cell_type": "code",
   "execution_count": null,
   "id": "f68a5f0f-c334-486b-987d-9c494387bd39",
   "metadata": {},
   "outputs": [],
   "source": [
    "unemp_df=unemp_df.query('seasonal_adjustment == \"Seasonally Adjusted\" and units ==\"Percent\"')\n"
   ]
  },
  {
   "cell_type": "code",
   "execution_count": null,
   "id": "09c4b064-cd04-471c-afc8-56311199cacb",
   "metadata": {},
   "outputs": [],
   "source": [
    "unemp_df"
   ]
  },
  {
   "cell_type": "code",
   "execution_count": null,
   "id": "ff6d6d2d-8b9b-4608-86fd-437e91d45525",
   "metadata": {},
   "outputs": [],
   "source": [
    "unemp_df.loc[unemp_df['title'].str.contains('Unemployment Rate in')]\n"
   ]
  },
  {
   "cell_type": "code",
   "execution_count": null,
   "id": "f2b268a5-2387-4bac-b91e-2e885ed16d29",
   "metadata": {},
   "outputs": [],
   "source": [
    "# Filter rows where the title contains \"Unemployment Rate\"\n",
    "filtered_df = unemp_df[unemp_df['title'].str.contains('Unemployment Rate in', case=False)]\n",
    "\n",
    "# Initialize list\n",
    "all_results = []\n",
    "\n",
    "# Loop only through filtered rows\n",
    "for myid in filtered_df.index:\n",
    "    results = fred.get_series(myid)\n",
    "    results = results.to_frame(name=myid)\n",
    "    all_results.append(results)\n",
    "    #break  # just for testing\n",
    "print(filtered_df[['title']])  # Check what you're looping through\n"
   ]
  },
  {
   "cell_type": "code",
   "execution_count": null,
   "id": "2f61b4f3-86f0-4a71-ba8e-10112797b221",
   "metadata": {},
   "outputs": [],
   "source": [
    "uemp_results= pd.concat(all_results, axis=1)"
   ]
  },
  {
   "cell_type": "code",
   "execution_count": null,
   "id": "8bb81428-7f4c-4ac0-8106-cd7c95714ecb",
   "metadata": {},
   "outputs": [],
   "source": [
    "uemp_results.head"
   ]
  },
  {
   "cell_type": "code",
   "execution_count": null,
   "id": "aa4c618f-95ca-432c-875b-7140414e240a",
   "metadata": {},
   "outputs": [],
   "source": [
    "uemp_results.isna().sum()"
   ]
  },
  {
   "cell_type": "code",
   "execution_count": null,
   "id": "9d2e94c7-0ad2-4144-98b8-f5e76b337fc3",
   "metadata": {},
   "outputs": [],
   "source": [
    "px.line(uemp_results)"
   ]
  },
  {
   "cell_type": "code",
   "execution_count": null,
   "id": "59715bef-a427-497a-8d8c-75983f5713f0",
   "metadata": {},
   "outputs": [],
   "source": [
    "ax= uemp_results.loc[uemp_results.index == '2020-04-01'].T.sort_values('2020-04-01')\\\n",
    "            . plot(kind='bar', figsize=(10,5), title='Unemployement rate by states April 2020')\n",
    "\n",
    "\n",
    "ax.legend().remove()\n",
    "plt.show()\n"
   ]
  },
  {
   "cell_type": "code",
   "execution_count": null,
   "id": "ae7191bb-7f9b-4565-82c4-4fae7215053b",
   "metadata": {},
   "outputs": [],
   "source": [
    "id_to_state=filtered_df['title'].str.replace('Unemployment Rate in',' ').to_dict()"
   ]
  },
  {
   "cell_type": "code",
   "execution_count": null,
   "id": "fbaf351d-d0ff-4b7a-ad42-d882a681fb69",
   "metadata": {},
   "outputs": [],
   "source": [
    "uemp_results.columns=[id_to_state[c] for c in uemp_results.columns]"
   ]
  },
  {
   "cell_type": "code",
   "execution_count": null,
   "id": "3c22aae5-6816-46b3-9f03-72b26c25b952",
   "metadata": {},
   "outputs": [],
   "source": [
    "uemp_results"
   ]
  },
  {
   "cell_type": "code",
   "execution_count": null,
   "id": "b20af161-44e7-46f9-9763-e866efe1abf2",
   "metadata": {},
   "outputs": [],
   "source": [
    "ax= uemp_results.loc[uemp_results.index == '2020-04-01'].T.sort_values('2020-04-01')\\\n",
    "            . plot(kind='barh', figsize=(10,10), title='Unemployement rate by states April 2020')\n",
    "\n",
    "\n",
    "ax.legend().remove()\n",
    "plt.show()"
   ]
  },
  {
   "cell_type": "markdown",
   "id": "078a3a43-4c96-4fef-abc9-258326f1abd1",
   "metadata": {},
   "source": [
    "## Pull participation rate"
   ]
  },
  {
   "cell_type": "code",
   "execution_count": null,
   "id": "f6b807d7-2c2c-479f-b645-4ebe039978a3",
   "metadata": {},
   "outputs": [],
   "source": [
    "part_df=fred.search('participation rate state', filter=('frequency', 'Monthly'))\n",
    "part_df=part_df.query('seasonal_adjustment == \"Seasonally Adjusted\" and units ==\"Percent\"')\n",
    "filtered_part_df = part_df[part_df['title'].str.contains('Labor Force Participation Rate for', case=False)]\n",
    "\n"
   ]
  },
  {
   "cell_type": "code",
   "execution_count": null,
   "id": "c4ea46f8-d544-485e-a0e5-2a8fd4abf6e5",
   "metadata": {},
   "outputs": [],
   "source": [
    "filtered_part_df"
   ]
  },
  {
   "cell_type": "code",
   "execution_count": null,
   "id": "94238a08-422c-49e0-9fd1-f7d83e0380f2",
   "metadata": {},
   "outputs": [],
   "source": [
    "part_id_to_state=filtered_part_df['title'].str.replace('Labor Force Participation Rate for',' ').to_dict()"
   ]
  },
  {
   "cell_type": "code",
   "execution_count": null,
   "id": "a68e7858-6328-40c6-b60a-db6ad8dc95a2",
   "metadata": {},
   "outputs": [],
   "source": [
    "# Initialize list\n",
    "part_all_results = []\n",
    "\n",
    "# Loop only through filtered rows\n",
    "for myid in filtered_part_df.index:\n",
    "    results = fred.get_series(myid)\n",
    "    results = results.to_frame(name=myid)\n",
    "    part_all_results.append(results)\n",
    "    #break  # just for testing\n",
    "print(filtered_part_df[['title']])  # Check what you're looping through"
   ]
  },
  {
   "cell_type": "code",
   "execution_count": null,
   "id": "5dcaf398-10af-4c8d-8198-43de2ca59147",
   "metadata": {},
   "outputs": [],
   "source": [
    "print(part_all_results)"
   ]
  },
  {
   "cell_type": "code",
   "execution_count": null,
   "id": "e3a35f21-98e1-4606-b26d-eb73829c7164",
   "metadata": {},
   "outputs": [],
   "source": [
    "part_states= pd.concat(part_all_results, axis=1)\n"
   ]
  },
  {
   "cell_type": "code",
   "execution_count": null,
   "id": "ccc0576a-b1f6-4e74-af79-209e000d4a78",
   "metadata": {},
   "outputs": [],
   "source": [
    "part_states.head"
   ]
  },
  {
   "cell_type": "code",
   "execution_count": null,
   "id": "2e244728-8b60-47d6-a18a-363045520914",
   "metadata": {},
   "outputs": [],
   "source": [
    "part_states.columns=[part_id_to_state[c] for c in part_states.columns]"
   ]
  },
  {
   "cell_type": "code",
   "execution_count": null,
   "id": "2673a7de-6497-4c9f-9210-cfe59a6af9d6",
   "metadata": {},
   "outputs": [],
   "source": [
    "part_states.head"
   ]
  },
  {
   "cell_type": "code",
   "execution_count": null,
   "id": "7a0b3742-0d95-4f36-a419-642a8f5429ae",
   "metadata": {},
   "outputs": [],
   "source": [
    "part_states.isna().sum()"
   ]
  },
  {
   "cell_type": "code",
   "execution_count": null,
   "id": "b7c23b63-9bc8-4b73-9b30-dc5ae0f1aa89",
   "metadata": {},
   "outputs": [],
   "source": [
    "px.line(part_states)"
   ]
  },
  {
   "cell_type": "code",
   "execution_count": null,
   "id": "4a0c96c3-bf82-4776-ac21-f2f6d01f7ada",
   "metadata": {},
   "outputs": [],
   "source": [
    "# Step 1: Convert the date column (assume it's called 'date' or maybe it's unnamed)\n",
    "part_states.iloc[:, 0] = pd.to_datetime(part_states.iloc[:, 0])\n",
    "\n",
    "# Step 2: Set it as the index\n",
    "part_states.set_index(part_states.columns[0], inplace=True)"
   ]
  },
  {
   "cell_type": "code",
   "execution_count": null,
   "id": "a388cdda-8a95-47c3-9a37-44b46765f913",
   "metadata": {},
   "outputs": [],
   "source": [
    "part_states.describe\n"
   ]
  },
  {
   "cell_type": "code",
   "execution_count": null,
   "id": "93055125-1549-4093-a242-d5389caafd02",
   "metadata": {},
   "outputs": [],
   "source": [
    "#part_states.query('index >= 2020 and index < 2022')['Massachusetts'].plot(ax=ax)\n"
   ]
  },
  {
   "cell_type": "code",
   "execution_count": null,
   "id": "4ac1002f-c32b-4c91-ace3-b7919685929b",
   "metadata": {},
   "outputs": [],
   "source": []
  },
  {
   "cell_type": "code",
   "execution_count": null,
   "id": "2d90342e-789e-4fd2-b19c-d6a2bd3ed31d",
   "metadata": {},
   "outputs": [],
   "source": []
  },
  {
   "cell_type": "code",
   "execution_count": null,
   "id": "f9c3e155-5bab-4a9b-be54-422911396299",
   "metadata": {},
   "outputs": [],
   "source": []
  },
  {
   "cell_type": "code",
   "execution_count": null,
   "id": "f6736088-4276-41e3-b000-fa92b39ed235",
   "metadata": {},
   "outputs": [],
   "source": []
  },
  {
   "cell_type": "code",
   "execution_count": null,
   "id": "4e6d7e1b-9684-4b15-8eb4-ead8bc7c28f4",
   "metadata": {},
   "outputs": [],
   "source": []
  },
  {
   "cell_type": "code",
   "execution_count": null,
   "id": "fa7bbfc0",
   "metadata": {},
   "outputs": [],
   "source": [
    "!git init\n"
   ]
  },
  {
   "cell_type": "code",
   "execution_count": null,
   "id": "9dcaf67e-23c3-44ab-bbbe-2b758cbcd9a7",
   "metadata": {},
   "outputs": [],
   "source": [
    "!git branch"
   ]
  },
  {
   "cell_type": "code",
   "execution_count": null,
   "id": "2f13dfbe-102a-4eb4-bd77-21271a163659",
   "metadata": {},
   "outputs": [],
   "source": [
    "!git remote -v"
   ]
  },
  {
   "cell_type": "code",
   "execution_count": null,
   "id": "d054b122-28f6-4f4a-adaa-f3be2f4a5ff8",
   "metadata": {},
   "outputs": [],
   "source": [
    "!git status"
   ]
  },
  {
   "cell_type": "code",
   "execution_count": null,
   "id": "bb8fb320-66d4-488a-9c37-9f082ebaa8fc",
   "metadata": {},
   "outputs": [],
   "source": [
    "!git add ."
   ]
  },
  {
   "cell_type": "code",
   "execution_count": null,
   "id": "edb140ef-f5b1-42f4-b79e-a073f0437621",
   "metadata": {},
   "outputs": [],
   "source": [
    "!git commit -m \"added new files for learning\"\n",
    "!git push origin master\n",
    "!git status"
   ]
  }
 ],
 "metadata": {
  "kernelspec": {
   "display_name": "Python 3 (ipykernel)",
   "language": "python",
   "name": "python3"
  },
  "language_info": {
   "codemirror_mode": {
    "name": "ipython",
    "version": 3
   },
   "file_extension": ".py",
   "mimetype": "text/x-python",
   "name": "python",
   "nbconvert_exporter": "python",
   "pygments_lexer": "ipython3",
   "version": "3.13.5"
  }
 },
 "nbformat": 4,
 "nbformat_minor": 5
}
