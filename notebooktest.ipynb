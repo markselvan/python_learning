{
 "cells": [
  {
   "cell_type": "markdown",
   "id": "c7e8e52b-2bc6-4561-aff3-bbadb12145d1",
   "metadata": {},
   "source": [
    "#Example of jupyter notebook example\n",
    "\n",
    "Subtitle\n",
    "This is an example of a notebook"
   ]
  },
  {
   "cell_type": "code",
   "execution_count": 1,
   "id": "9c89f6aa-0d6f-495f-b78f-56d005347d12",
   "metadata": {},
   "outputs": [
    {
     "name": "stdout",
     "output_type": "stream",
     "text": [
      "hello viewer\n"
     ]
    }
   ],
   "source": [
    "print('hello viewer')"
   ]
  },
  {
   "cell_type": "code",
   "execution_count": null,
   "id": "9ce7c275-8970-4222-9d50-e5adf710b201",
   "metadata": {},
   "outputs": [],
   "source": [
    "print('hello viewer')\n"
   ]
  }
 ],
 "metadata": {
  "kernelspec": {
   "display_name": "Python 3 (ipykernel)",
   "language": "python",
   "name": "python3"
  },
  "language_info": {
   "codemirror_mode": {
    "name": "ipython",
    "version": 3
   },
   "file_extension": ".py",
   "mimetype": "text/x-python",
   "name": "python",
   "nbconvert_exporter": "python",
   "pygments_lexer": "ipython3",
   "version": "3.13.5"
  }
 },
 "nbformat": 4,
 "nbformat_minor": 5
}
